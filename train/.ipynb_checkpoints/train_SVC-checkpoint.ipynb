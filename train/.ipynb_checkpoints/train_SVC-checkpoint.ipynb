{
 "cells": [
  {
   "cell_type": "code",
   "execution_count": null,
   "id": "105b8ef8",
   "metadata": {},
   "outputs": [],
   "source": [
    "from train_test_split import generated_tts\n",
    "from train_test_split import path_act"
   ]
  },
  {
   "cell_type": "code",
   "execution_count": null,
   "id": "9afed616",
   "metadata": {},
   "outputs": [],
   "source": [
    "from sklearn.metrics import accuracy_score, confusion_matrix, classification_report, f1_score, recall_score, precision_score\n",
    "import seaborn as sns\n",
    "import matplotlib.pyplot as plt\n",
    "import numpy as np\n",
    "from sklearn.svm import SVC\n",
    "import pickle"
   ]
  },
  {
   "cell_type": "code",
   "execution_count": null,
   "id": "69c57a31",
   "metadata": {},
   "outputs": [],
   "source": [
    "X_train, X_val, y_train, y_val = generated_tts()"
   ]
  },
  {
   "cell_type": "code",
   "execution_count": null,
   "id": "331c6919",
   "metadata": {},
   "outputs": [],
   "source": [
    "svm = SVC(C=10)\n",
    "svm.fit(X_train, y_train)"
   ]
  },
  {
   "cell_type": "code",
   "execution_count": null,
   "id": "f6c1087f",
   "metadata": {},
   "outputs": [],
   "source": [
    "y_pred = svm.predict(X_val)\n",
    "y_pred"
   ]
  },
  {
   "cell_type": "code",
   "execution_count": null,
   "id": "9e9e4b7b",
   "metadata": {},
   "outputs": [],
   "source": [
    "cf_matrix = confusion_matrix(y_val, y_pred)\n",
    "f1 = f1_score(y_val, y_pred, average='micro')\n",
    "recall = recall_score(y_val, y_pred, average='micro')\n",
    "precision = precision_score(y_val, y_pred, average='micro')\n",
    "f1, recall, precision"
   ]
  },
  {
   "cell_type": "code",
   "execution_count": null,
   "id": "71f2943f",
   "metadata": {},
   "outputs": [],
   "source": [
    "labels = ['A', 'B', 'C', 'D','E', 'F', 'G', 'H ', 'I', 'K','L' , 'M','N','O','P','Q','R','S', 'T', 'U', 'V', 'W', 'X', 'Y']\n",
    "\n",
    "fig, ax = plt.subplots(figsize=(15, 15))\n",
    "\n",
    "ax.set_title(\"Confusion Matrix - Teckenspråk\")\n",
    "\n",
    "maping = sns.heatmap(cf_matrix, \n",
    "                     annot=True,\n",
    "                     cmap = plt.cm.Blues, \n",
    "                     linewidths=.2,\n",
    "                     xticklabels=labels,\n",
    "                     yticklabels=labels, vmax=8,\n",
    "                     fmt='g',\n",
    "                     ax=ax\n",
    "                    )\n",
    "maping"
   ]
  },
  {
   "cell_type": "code",
   "execution_count": null,
   "id": "2050bd98",
   "metadata": {},
   "outputs": [],
   "source": [
    "np.array(y_val)"
   ]
  },
  {
   "cell_type": "code",
   "execution_count": null,
   "id": "4868d7bb",
   "metadata": {},
   "outputs": [],
   "source": [
    "np.array(y_pred)"
   ]
  },
  {
   "cell_type": "code",
   "execution_count": null,
   "id": "a3e49be5",
   "metadata": {},
   "outputs": [],
   "source": [
    "np.array(y_pred == y_val)"
   ]
  },
  {
   "cell_type": "code",
   "execution_count": null,
   "id": "32967605",
   "metadata": {},
   "outputs": [],
   "source": [
    "dir = path_act()"
   ]
  },
  {
   "cell_type": "code",
   "execution_count": null,
   "id": "89a93f77",
   "metadata": {},
   "outputs": [],
   "source": [
    "with open(f'{dir}/model/SVC_model.pkl','wb') as fw:\n",
    "    pickle.dump(svm,fw)"
   ]
  },
  {
   "cell_type": "code",
   "execution_count": null,
   "id": "4a492947",
   "metadata": {},
   "outputs": [],
   "source": []
  },
  {
   "cell_type": "code",
   "execution_count": null,
   "id": "1c0694fd",
   "metadata": {},
   "outputs": [],
   "source": []
  }
 ],
 "metadata": {
  "kernelspec": {
   "display_name": "Python 3 (ipykernel)",
   "language": "python",
   "name": "python3"
  },
  "language_info": {
   "codemirror_mode": {
    "name": "ipython",
    "version": 3
   },
   "file_extension": ".py",
   "mimetype": "text/x-python",
   "name": "python",
   "nbconvert_exporter": "python",
   "pygments_lexer": "ipython3",
   "version": "3.9.13"
  }
 },
 "nbformat": 4,
 "nbformat_minor": 5
}
